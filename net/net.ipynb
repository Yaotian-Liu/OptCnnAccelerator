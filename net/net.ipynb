{
 "cells": [
  {
   "cell_type": "code",
   "execution_count": 1,
   "metadata": {},
   "outputs": [],
   "source": [
    "import pandas as pd\n",
    "import numpy as np\n",
    "import torch\n",
    "import torch.nn as nn\n",
    "import torch.nn.functional as F\n",
    "from torch.utils.data import TensorDataset, DataLoader\n",
    "from torchvision import datasets\n",
    "from torchvision.transforms import ToTensor"
   ]
  },
  {
   "cell_type": "code",
   "execution_count": 2,
   "metadata": {},
   "outputs": [],
   "source": [
    "device = 'cuda' if torch.cuda.is_available() else 'cpu'\n",
    "\n",
    "batch_size = 256\n",
    "learning_rate = 1e-3\n",
    "epochs = 5"
   ]
  },
  {
   "cell_type": "code",
   "execution_count": 3,
   "metadata": {},
   "outputs": [],
   "source": [
    "training_data = datasets.MNIST(\n",
    "    root=\"../data\",\n",
    "    train=True,\n",
    "    download=True,\n",
    "    transform=ToTensor(),\n",
    ")\n",
    "\n",
    "# Download test data from open datasets.\n",
    "test_data = datasets.MNIST(\n",
    "    root=\"../data\",\n",
    "    train=False,\n",
    "    download=True,\n",
    "    transform=ToTensor(),\n",
    ")\n",
    "\n",
    "# Create data loaders.\n",
    "train_dl = DataLoader(training_data, batch_size=batch_size)\n",
    "test_dl = DataLoader(test_data, batch_size=1)"
   ]
  },
  {
   "cell_type": "code",
   "execution_count": 4,
   "metadata": {},
   "outputs": [
    {
     "name": "stdout",
     "output_type": "stream",
     "text": [
      "torch.Size([1, 1, 28, 28]) torch.Size([1])\n"
     ]
    }
   ],
   "source": [
    "for x, y in test_dl:\n",
    "    print(x.shape, y.shape)\n",
    "    break"
   ]
  },
  {
   "cell_type": "code",
   "execution_count": 5,
   "metadata": {},
   "outputs": [],
   "source": [
    "class LeNet(nn.Module):\n",
    "\n",
    "    def __init__(self):\n",
    "        super(LeNet, self).__init__()\n",
    "        self.conv1 = nn.Sequential(\n",
    "            nn.Conv2d(1, 6, kernel_size=5, padding=2),\n",
    "            nn.ReLU(),\n",
    "            nn.BatchNorm2d(6),\n",
    "            nn.MaxPool2d(kernel_size=2, stride=2)\n",
    "        )\n",
    "        self.conv2 = nn.Sequential(\n",
    "            nn.Conv2d(6, 16, kernel_size=5),\n",
    "            nn.ReLU(),\n",
    "            nn.BatchNorm2d(16),\n",
    "            nn.MaxPool2d(kernel_size=2, stride=2)\n",
    "        )\n",
    "        self.conv3 = nn.Sequential(\n",
    "           nn.Conv2d(16, 10, kernel_size=5),\n",
    "        #    nn.ReLU(),\n",
    "           nn.Flatten()\n",
    "        )\n",
    "\n",
    "    def forward(self, x):\n",
    "        x = self.conv1(x)\n",
    "        x = self.conv2(x)\n",
    "        x = self.conv3(x)\n",
    "        # out = F.softmax(x, dim=1)\n",
    "        return x\n",
    "\n",
    "net = LeNet().to(device)"
   ]
  },
  {
   "cell_type": "code",
   "execution_count": 6,
   "metadata": {},
   "outputs": [],
   "source": [
    "loss_fn = nn.CrossEntropyLoss()\n",
    "optimizer = torch.optim.Adam(net.parameters(), lr=learning_rate)"
   ]
  },
  {
   "cell_type": "code",
   "execution_count": 7,
   "metadata": {},
   "outputs": [],
   "source": [
    "def train_loop(dataloader, net, loss_fn, optim, device=\"cuda\"):\n",
    "    for batch_i, (X, y) in enumerate(dataloader):\n",
    "        X, y = X.to(device), y.to(device)\n",
    "        \n",
    "        pred = net(X)\n",
    "        loss = loss_fn(pred, y)\n",
    "        \n",
    "        optim.zero_grad()\n",
    "        loss.backward()\n",
    "        optim.step()\n",
    "        \n",
    "        if batch_i % 100 == 0:\n",
    "            loss, current = loss.item(), batch_i * len(X)\n",
    "            print(f\"Batch: {batch_i}, loss: {loss}\")\n",
    "\n",
    "def test_loop(dataloader, model, loss_fn, device=\"cuda\"):\n",
    "    size = len(dataloader.dataset)\n",
    "    num_batches = len(dataloader)\n",
    "    test_loss, correct = 0, 0\n",
    "\n",
    "    with torch.no_grad():\n",
    "        for data, label in dataloader:\n",
    "            data = data.to(device)\n",
    "            label = label.to(device)\n",
    "            pred = model(data)\n",
    "            test_loss += loss_fn(pred, label).item()\n",
    "            correct += (pred.argmax(1) == label).type(torch.float).sum().item()\n",
    "\n",
    "    test_loss /= num_batches\n",
    "    correct /= size\n",
    "    print(\n",
    "        f\"Test Error: \\n Accuracy: {(100*correct):>0.1f}%, Avg loss: {test_loss:>8f} \\n\")\n",
    "    \n",
    "    return correct*100"
   ]
  },
  {
   "cell_type": "code",
   "execution_count": 8,
   "metadata": {},
   "outputs": [
    {
     "name": "stdout",
     "output_type": "stream",
     "text": [
      "==== Epoch: 1 ====\n",
      "Batch: 0, loss: 2.540403366088867\n",
      "Batch: 100, loss: 0.17764760553836823\n",
      "Batch: 200, loss: 0.09950587153434753\n",
      "Test Error: \n",
      " Accuracy: 95.4%, Avg loss: 0.154946 \n",
      "\n",
      "==== Epoch: 2 ====\n",
      "Batch: 0, loss: 0.1157233864068985\n",
      "Batch: 100, loss: 0.0815146416425705\n",
      "Batch: 200, loss: 0.06381628662347794\n",
      "Test Error: \n",
      " Accuracy: 95.1%, Avg loss: 0.146579 \n",
      "\n",
      "==== Epoch: 3 ====\n",
      "Batch: 0, loss: 0.07881902903318405\n",
      "Batch: 100, loss: 0.05939766764640808\n",
      "Batch: 200, loss: 0.05568619444966316\n",
      "Test Error: \n",
      " Accuracy: 94.2%, Avg loss: 0.166889 \n",
      "\n",
      "==== Epoch: 4 ====\n",
      "Batch: 0, loss: 0.061107881367206573\n",
      "Batch: 100, loss: 0.0452219694852829\n",
      "Batch: 200, loss: 0.04969136789441109\n",
      "Test Error: \n",
      " Accuracy: 93.8%, Avg loss: 0.178978 \n",
      "\n",
      "==== Epoch: 5 ====\n",
      "Batch: 0, loss: 0.04921777918934822\n",
      "Batch: 100, loss: 0.037676747888326645\n",
      "Batch: 200, loss: 0.04183826968073845\n",
      "Test Error: \n",
      " Accuracy: 93.3%, Avg loss: 0.188400 \n",
      "\n"
     ]
    }
   ],
   "source": [
    "for i in range(epochs):\n",
    "    print(f\"==== Epoch: {i + 1} ====\")\n",
    "    train_loop(train_dl, net, loss_fn, optimizer)\n",
    "    test_loop(test_dl, net, loss_fn)"
   ]
  },
  {
   "cell_type": "code",
   "execution_count": 10,
   "metadata": {},
   "outputs": [],
   "source": [
    "# torch.save(net.state_dict(), \"params.pth\")"
   ]
  },
  {
   "cell_type": "code",
   "execution_count": 31,
   "metadata": {},
   "outputs": [
    {
     "name": "stdout",
     "output_type": "stream",
     "text": [
      "tensor(7, device='cuda:0')\n",
      "tensor(7)\n"
     ]
    }
   ],
   "source": [
    "for x, y in test_dl:\n",
    "    pred = net(x.to(device)[0].unsqueeze(0))\n",
    "    pred_index = pred.argmax()\n",
    "    print(pred_index)\n",
    "    print(y[0])\n",
    "    torch.save(x[0].unsqueeze(0), 'test_data')\n",
    "    break"
   ]
  },
  {
   "cell_type": "code",
   "execution_count": 32,
   "metadata": {},
   "outputs": [
    {
     "data": {
      "text/plain": [
       "tensor([[ -3.7362,  -2.7334,   1.5859,   2.5465,  -3.9135,  -5.2472, -14.1808,\n",
       "          13.9857,  -2.0783,   2.9147]], device='cuda:0',\n",
       "       grad_fn=<ReshapeAliasBackward0>)"
      ]
     },
     "execution_count": 32,
     "metadata": {},
     "output_type": "execute_result"
    }
   ],
   "source": [
    "net(torch.load(\"test_data\").to(device))"
   ]
  },
  {
   "cell_type": "code",
   "execution_count": 13,
   "metadata": {},
   "outputs": [
    {
     "data": {
      "text/plain": [
       "odict_keys(['conv1.0.weight', 'conv1.0.bias', 'conv1.2.weight', 'conv1.2.bias', 'conv1.2.running_mean', 'conv1.2.running_var', 'conv1.2.num_batches_tracked', 'conv2.0.weight', 'conv2.0.bias', 'conv2.2.weight', 'conv2.2.bias', 'conv2.2.running_mean', 'conv2.2.running_var', 'conv2.2.num_batches_tracked', 'conv3.0.weight', 'conv3.0.bias'])"
      ]
     },
     "execution_count": 13,
     "metadata": {},
     "output_type": "execute_result"
    }
   ],
   "source": [
    "param = torch.load(\"params.pth\")\n",
    "param.keys()"
   ]
  }
 ],
 "metadata": {
  "kernelspec": {
   "display_name": "Python 3.9.13 ('torch')",
   "language": "python",
   "name": "python3"
  },
  "language_info": {
   "codemirror_mode": {
    "name": "ipython",
    "version": 3
   },
   "file_extension": ".py",
   "mimetype": "text/x-python",
   "name": "python",
   "nbconvert_exporter": "python",
   "pygments_lexer": "ipython3",
   "version": "3.9.13"
  },
  "orig_nbformat": 4,
  "vscode": {
   "interpreter": {
    "hash": "04cfe01e7df663b02ae5b3885df222fb0e4743ed71685fdca8a2300089b7e990"
   }
  }
 },
 "nbformat": 4,
 "nbformat_minor": 2
}
